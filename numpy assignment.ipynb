{
 "cells": [
  {
   "cell_type": "code",
   "execution_count": 1,
   "metadata": {},
   "outputs": [],
   "source": [
    "import numpy as np "
   ]
  },
  {
   "cell_type": "code",
   "execution_count": 17,
   "metadata": {},
   "outputs": [],
   "source": [
    "# Given a sequence of n values x1, x2, ..., xn and a window size k>0, the k-th moving average of\n",
    "# the given sequence is defined as follows:\n",
    "# The moving average sequence has n-k+1 elements as shown below.\n",
    "# The moving averages with k=4 of a ten-value sequence (n=10) is shown below\n",
    "# i 1 2 3 4 5 6 7 8 9 10\n",
    "# ===== == == == == == == == == == ==\n",
    "# Input 10 20 30 40 50 60 70 80 90 100\n",
    "# y1 25 = (10+20+30+40)/4\n",
    "# y2 35 = (20+30+40+50)/4\n",
    "# y3 45 = (30+40+50+60)/4\n",
    "# y4 55 = (40+50+60+70)/4\n",
    "# y5 65 = (50+60+70+80)/4\n",
    "# y6 75 = (60+70+80+90)/4\n",
    "# y7 85 = (70+80+90+100)/4\n",
    "# Thus, the moving average sequence has n-k+1=10-4+1=7 values.\n",
    "\n",
    "# Question: Write a function to find moving average in an array over a window:\n",
    "# Test it over [3, 5, 7, 2, 8, 10, 11, 65, 72, 81, 99, 100, 150] and window of 3.\n",
    "\n",
    "\n",
    "\n",
    "def moving_average(x, k):\n",
    "    n=len(x)\n",
    "    values = n-k+1\n",
    "    for start in range(values):\n",
    "        print(sum(x[start:start+k])/k)"
   ]
  },
  {
   "cell_type": "code",
   "execution_count": 16,
   "metadata": {},
   "outputs": [
    {
     "name": "stdout",
     "output_type": "stream",
     "text": [
      "5.666666666666667\n",
      "7.333333333333333\n",
      "9.0\n",
      "10.333333333333334\n",
      "31.333333333333332\n",
      "52.666666666666664\n",
      "76.33333333333333\n",
      "105.66666666666667\n",
      "117.33333333333333\n",
      "143.33333333333334\n",
      "116.33333333333333\n"
     ]
    }
   ],
   "source": [
    "input_array = np.array([3, 5, 7, 2, 8, 10, 11, 65, 72, 81, 99, 100, 150])\n",
    "\n",
    "moving_average(input_array, 3)"
   ]
  },
  {
   "cell_type": "markdown",
   "metadata": {},
   "source": [
    "# Sample test"
   ]
  },
  {
   "cell_type": "code",
   "execution_count": 19,
   "metadata": {},
   "outputs": [
    {
     "name": "stdout",
     "output_type": "stream",
     "text": [
      "25.0\n",
      "35.0\n",
      "45.0\n",
      "55.0\n",
      "65.0\n",
      "75.0\n",
      "85.0\n"
     ]
    }
   ],
   "source": [
    "x = np.arange(10,101,10)\n",
    "\n",
    "moving_average(x, 4)"
   ]
  },
  {
   "cell_type": "code",
   "execution_count": null,
   "metadata": {},
   "outputs": [],
   "source": []
  }
 ],
 "metadata": {
  "kernelspec": {
   "display_name": "Python 3",
   "language": "python",
   "name": "python3"
  },
  "language_info": {
   "codemirror_mode": {
    "name": "ipython",
    "version": 3
   },
   "file_extension": ".py",
   "mimetype": "text/x-python",
   "name": "python",
   "nbconvert_exporter": "python",
   "pygments_lexer": "ipython3",
   "version": "3.7.4"
  }
 },
 "nbformat": 4,
 "nbformat_minor": 2
}
